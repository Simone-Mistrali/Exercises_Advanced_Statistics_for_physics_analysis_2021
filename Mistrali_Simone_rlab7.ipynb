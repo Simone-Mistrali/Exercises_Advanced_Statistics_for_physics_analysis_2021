{
 "cells": [
  {
   "cell_type": "markdown",
   "id": "d757dba7",
   "metadata": {},
   "source": [
    "# Session 7\n",
    "Simone Mistrali\n",
    "\n",
    "ID:2119119 "
   ]
  },
  {
   "cell_type": "code",
   "execution_count": 51,
   "id": "a61bf3d2",
   "metadata": {},
   "outputs": [],
   "source": [
    "options(repr.plot.width=8, repr.plot.height=5)"
   ]
  },
  {
   "cell_type": "markdown",
   "id": "9f50532b",
   "metadata": {},
   "source": [
    "## Ex 1"
   ]
  },
  {
   "cell_type": "markdown",
   "id": "3fd6365c",
   "metadata": {},
   "source": [
    "A well established and diffused method for detecting a disease in blood fails to detect the presence\n",
    "of disease in $15\\%$ of the patients that actually have the disease.\n",
    "A young UniPD startUp has developed an innovative method of screening. During the qualification\n",
    "phase, a random sample of $n = 75$ patients known to have the disease is screened using the new\n",
    "method."
   ]
  },
  {
   "cell_type": "markdown",
   "id": "a2cca21f",
   "metadata": {},
   "source": [
    "### a)\n",
    "\n",
    "What is the probability distribution of $y$, the number of times the new method fails to detect the\n",
    "disease ?\n",
    "\n",
    "We have a binomial distribution, because we have a true/false situation."
   ]
  },
  {
   "cell_type": "markdown",
   "id": "7be5c5ae",
   "metadata": {},
   "source": [
    "### b)\n",
    "\n",
    "On the $n = 75$ patients sample, the new method fails to detect the disease in $y = 6$ cases. What is\n",
    "the frequentist estimator of the failure probability of the new method ?\n",
    "\n",
    "\n",
    "The frequentist estimator of the new method is $\\hat{p}=\\dfrac{y}{n}=0.08$."
   ]
  },
  {
   "cell_type": "markdown",
   "id": "d49af9b3",
   "metadata": {},
   "source": [
    "### c)\n",
    "\n",
    "Setup a bayesian computation of the posterior probability, assuming a beta distribution with mean\n",
    "value $0.15$ and standard deviation $0.14$. Plot the posterior distribution for y, and mark on the plot\n",
    "the mean value and variance\n"
   ]
  },
  {
   "cell_type": "markdown",
   "id": "71734362",
   "metadata": {},
   "source": [
    "As we have seen in the **session 5** we can use this substitution to link $\\mu$ and $\\sigma$ to $\\alpha$ and $\\beta$:\n",
    "\n",
    "\n",
    "$$\n",
    "\\begin{cases}\n",
    "\\nu = \\alpha^* + \\beta^*=\\dfrac{\\mu(1-\\mu)}{\\sigma^2}-1\\\\\n",
    "\\alpha^* = \\mu \\nu =\\mu\\left( \\dfrac{\\mu(1-\\mu)}{\\sigma^2}-1\\right)\\\\\n",
    "\\beta^*  = \\left(1-\\mu \\right)\\nu =\\left(1-\\mu \\right)\\left( \\dfrac{\\mu(1-\\mu)}{\\sigma^2}-1\\right)\n",
    "\\end{cases}\n",
    "$$\n",
    "\n"
   ]
  },
  {
   "cell_type": "code",
   "execution_count": 52,
   "id": "c5605933",
   "metadata": {},
   "outputs": [],
   "source": [
    "mu <- 0.15\n",
    "sigma <- 0.14\n",
    "nu <- mu*(1-mu)/sigma^2 -1\n",
    "alpha <- nu*mu\n",
    "beta <- (1-mu)*nu\n",
    "n <- 75 \n",
    "y <- 6\n",
    "\n",
    "n.sample <- 10000\n",
    "\n",
    "\n",
    "dp <- (0.4-1/(2*n.sample))/n.sample\n",
    "\n",
    "p <- seq(from=1/(2*n.sample), by=1/n.sample, to= 0.4)\n",
    "\n",
    "p.likelihood <- dbinom(x=y, size=n, prob=p)\n",
    "prior <-dbeta(p,shape1=alpha,shape2=beta)\n",
    "posterior <- prior*p.likelihood\n",
    "posterior.n <- posterior/(sum(posterior)*dp)"
   ]
  },
  {
   "cell_type": "code",
   "execution_count": 53,
   "id": "ae400308",
   "metadata": {},
   "outputs": [
    {
     "data": {
      "image/png": "[encoded data removed]",
      "text/plain": [
       "Plot with title \"Normalized posterior\""
      ]
     },
     "metadata": {},
     "output_type": "display_data"
    }
   ],
   "source": [
    "plot(p,posterior.n,type=\"l\",lwd = 3,col=\"firebrick\",main=\"Normalized posterior\")\n",
    "p.mean <- dp*sum(p*posterior.n)\n",
    "abline(v=p.mean, lty=2,col='black')\n",
    "i <- c(which(posterior.n==max(posterior.n), arr.ind=TRUE))\n",
    "max.p <- p[i]\n",
    "\n",
    "abline(v=p.mean, lty=2,col='black')\n",
    "abline(v=max.p, lty=2,col='blue')\n",
    "grid()\n",
    "legend(0.30, 25, legend=c(\"Posterior\", \"Mean\",\"Max\"),\n",
    "       col=c(\"firebrick\", \"black\",\"blue\"), lty=1:2)\n"
   ]
  },
  {
   "cell_type": "markdown",
   "id": "b5ed199d",
   "metadata": {},
   "source": [
    "### d)\n",
    "Perform a test of hypothesis assuming that if the probability of failing to the detect the desease\n",
    "in ill patients is greater or equal than $15\\%$, the new test is no better that the traditional method.\n",
    "Test the sample at a $5\\%$ level of significance in the Bayesian way.\n",
    "\n",
    "In this case we have to integrate from $\\infty$ to $0.15$ the posterior probability, we reject the null hypothesist if the area is less than $\\alpha=5\\%$.\n",
    "\n",
    "$$\n",
    "\\mathcal{P}\\left(H_0:p\\leq p_0\\, |\\,y \\right)=\\int_{p_0}^\\infty g(p\\,|\\,y)\\,dp\n",
    "$$"
   ]
  },
  {
   "cell_type": "code",
   "execution_count": 54,
   "id": "85ffc13b",
   "metadata": {},
   "outputs": [
    {
     "name": "stdout",
     "output_type": "stream",
     "text": [
      "[1] \"The integral of the posterior from infinity to 0.15 is 0.031279298447056.\"\n",
      "[1] \"Is less than 0.05, so we can reject the null hypotesis\"\n"
     ]
    }
   ],
   "source": [
    "# find 0.15\n",
    "i <- c(which(p==0.15005, arr.ind=TRUE))\n",
    "print(paste0(\"The integral of the posterior from infinity to 0.15 is \",sum(posterior.n[i:length(posterior.n)])*dp,\".\"))\n",
    "print((\"Is less than 0.05, so we can reject the null hypotesis\"))"
   ]
  },
  {
   "cell_type": "markdown",
   "id": "940b4b68",
   "metadata": {},
   "source": [
    "### Frequentist approach"
   ]
  },
  {
   "cell_type": "code",
   "execution_count": 55,
   "id": "e00fc6e4",
   "metadata": {},
   "outputs": [
    {
     "name": "stdout",
     "output_type": "stream",
     "text": [
      "[1] \"The integral of the posterior from infinity to 0.15 is 0.0234200455853143.\"\n",
      "[1] \"Is less than 0.05, so we can reject the null hypotesis\"\n"
     ]
    }
   ],
   "source": [
    "print(paste0(\"The integral of the posterior from infinity to 0.15 is \",sum(dbinom(0:5,75,0.15)),\".\"))\n",
    "print((\"Is less than 0.05, so we can reject the null hypotesis\"))"
   ]
  },
  {
   "cell_type": "markdown",
   "id": "9edc7249",
   "metadata": {},
   "source": [
    "### Ex 2"
   ]
  },
  {
   "cell_type": "markdown",
   "id": "484b6f62",
   "metadata": {},
   "source": [
    "Ladislaus Josephovich Bortkiewicz was a Russian economist and statistician. He noted that the Poisson distribution can be very useful in applied statistics when describing low-frequency events in a large population. In a famous example he showed that the number of deaths by horse kick among the Prussian army follows the Poisson distribution.\n",
    "\n",
    "Considering the following to sets of observations taken over a fixed large time interval in two different\n",
    "corps:\n",
    "\n",
    "| y death soldiers | 0 | 1 | 2 | 3 | 4 | ≥ 5|\n",
    "--|--|--|--|--|--|--\n",
    "| n1 observations | 109 | 65 | 22 | 3 | 1 | 0|\n",
    "| n2 observations | 144 | 91 | 32 | 11 | 2 | 0|\n",
    "\n",
    "\n",
    "Assuming a uniform prior, compute and plot the posterior distribution for $\\lambda$, the death rate over the measurement time. Determine the posterior mean, median and variance, and compute the $95\\%$ credibility interval.\n",
    "\n",
    "The $Gamma(\\alpha',\\lambda')$ distribution in this case is the posterior of the poisson distibution using uiform prior using:\n",
    "$$\n",
    "\\begin{cases}\n",
    "\\alpha'=\\sum x_j +1 \\\\\n",
    "\\lambda'=n\n",
    "\\end{cases}\n",
    "$$\n",
    "where $\\{x_j\\}_{j=1:n}$ is the set of measurement."
   ]
  },
  {
   "cell_type": "markdown",
   "id": "badc0bd3",
   "metadata": {},
   "source": [
    "Sorry professor, i don't understad if the exercise asks to study $n1$ and $n2$ distinctly or as a unique process in the first case we have to set up the same study, so compute the $\\alpha$s and compute the mean, variance and the median separatly, in the second case we have to sum the two sets of observations and do this analysis only one time (i'll do the last case). "
   ]
  },
  {
   "cell_type": "code",
   "execution_count": 56,
   "id": "ead91cb0",
   "metadata": {},
   "outputs": [],
   "source": [
    "n1 <- c(109,65,22,3,1,0)\n",
    "n2 <- c(144,91,32,11,2,0)\n",
    "mu <- seq(0,60,by=0.001)\n",
    "N <- 6\n",
    "n <- length(mu)\n",
    "dm <- 1/n\n",
    "# two set of measurements two times N\n",
    "lambda <- N*2\n",
    "alpha <- sum(n1)+sum(n2)+1\n",
    "alphaj <- sum(n1)+sum(n2)+0.5"
   ]
  },
  {
   "cell_type": "markdown",
   "id": "603d415e",
   "metadata": {},
   "source": [
    "### Uniform Prior"
   ]
  },
  {
   "cell_type": "code",
   "execution_count": 57,
   "id": "c9385879",
   "metadata": {},
   "outputs": [],
   "source": [
    "# To compute the median we have to compute the area and stop where it is 0.5\n",
    "median <- function(posterior,mu){\n",
    "    area <- 0\n",
    "    Z <-sum(posterior)\n",
    "    for(i in 1:length(mu)){\n",
    "        area<- area + posterior[i]/Z\n",
    "        if(area>=0.5)\n",
    "            break\n",
    "    }\n",
    "    return(mu[i])\n",
    "}\n",
    "CI <- function(posterior,mu,alpha){\n",
    "    area <- 0\n",
    "    Z <-sum(posterior)\n",
    "    for(i in 1:length(mu)){\n",
    "        area<- area + posterior[i]/Z\n",
    "        if(area>=alpha/2)\n",
    "            break\n",
    "    }\n",
    "    area <-0\n",
    "    for(j in seq(length(mu),1,by=-1)){\n",
    "        area<- area + posterior[j]/Z\n",
    "        if(area>=alpha/2)\n",
    "            break\n",
    "    }\n",
    "    return(c(mu[i],mu[j]))\n",
    "}"
   ]
  },
  {
   "cell_type": "code",
   "execution_count": 58,
   "id": "a5e98533",
   "metadata": {},
   "outputs": [
    {
     "name": "stdout",
     "output_type": "stream",
     "text": [
      "[1] \"The numerical mean is 40.0833333333333 the theoretical one is 40.0833333333333.\"\n",
      "[1] \"The numerical variance is 3.03999078481749 the theoretical one is 3.34027777777778.\"\n",
      "[1] \"The median of the posterior is 40.056.\"\n"
     ]
    },
    {
     "data": {
      "image/png": "[encoded data removed]",
      "text/plain": [
       "Plot with title \"Posterior with uniform prior\""
      ]
     },
     "metadata": {},
     "output_type": "display_data"
    }
   ],
   "source": [
    "posterior <- dgamma(x = mu, shape = alpha, rate = lambda)/(sum(dgamma(x = mu, shape = alpha, rate = lambda))*dm) \n",
    "p.mean <- dm*sum(mu*posterior)\n",
    "d<-CI(posterior =posterior,mu=mu,alpha=0.05 )\n",
    "plot(mu, posterior, type=\"l\", col=\"firebrick\",lwd=2,lty=1, \n",
    "     ylab=\"Posterior\", xlab= expression(mu) , xlim=c(0,60),main=\"Posterior with uniform prior\")\n",
    "abline(v=p.mean,col=\"blue\",lty=2)\n",
    "grid()\n",
    "abline(v=d[1],lty=2)\n",
    "abline(v=d[2],lty=2)\n",
    "p.var <- sqrt((sum(posterior^2)-p.mean^2)/n)\n",
    "print(paste0(\"The numerical mean is \", p.mean,\" the theoretical one is \", alpha/lambda,\".\"))\n",
    "print(paste0(\"The numerical variance is \",p.var ,\" the theoretical one is \", alpha/lambda^2,\".\"))\n",
    "print(paste0(\"The median of the posterior is \",median(posterior,mu),\".\"))\n"
   ]
  },
  {
   "cell_type": "code",
   "execution_count": 59,
   "id": "5517abbe",
   "metadata": {},
   "outputs": [
    {
     "name": "stdout",
     "output_type": "stream",
     "text": [
      "[1] \"The numerical mean is 40.0416666666667 the theoretical one is 40.0416666666667.\"\n",
      "[1] \"The numerical variance is 3.04079399505943 the theoretical one is 3.33680555555556.\"\n",
      "[1] \"The median of the posterior is 40.014.\"\n"
     ]
    },
    {
     "data": {
      "image/png": "[encoded data removed]",
      "text/plain": [
       "Plot with title \"Posterior with uniform prior\""
      ]
     },
     "metadata": {},
     "output_type": "display_data"
    }
   ],
   "source": [
    "posterior <- dgamma(x = mu, shape = alphaj, rate = lambda)/(sum(dgamma(x = mu, shape = alphaj, rate = lambda))*dm) \n",
    "p.mean <- dm*sum(mu*posterior)\n",
    "d<-CI(posterior =posterior,mu=mu,alpha=0.05 )\n",
    "plot(mu, posterior, type=\"l\", col=\"firebrick\",lwd=2,lty=1, \n",
    "     ylab=\"Posterior\", xlab= expression(mu) , xlim=c(0,60),main=\"Posterior with uniform prior\")\n",
    "abline(v=p.mean,col=\"blue\",lty=2)\n",
    "grid()\n",
    "abline(v=d[1],lty=2)\n",
    "abline(v=d[2],lty=2)\n",
    "p.var <- sqrt((sum(posterior^2)-p.mean^2)/n)\n",
    "print(paste0(\"The numerical mean is \", p.mean,\" the theoretical one is \", alphaj/lambda,\".\"))\n",
    "print(paste0(\"The numerical variance is \",p.var ,\" the theoretical one is \", alphaj/lambda^2,\".\"))\n",
    "print(paste0(\"The median of the posterior is \",median(posterior,mu),\".\"))\n"
   ]
  },
  {
   "cell_type": "markdown",
   "id": "9071e1dc",
   "metadata": {},
   "source": [
    "## Ex 3"
   ]
  },
  {
   "cell_type": "markdown",
   "id": "4f1f38e8",
   "metadata": {},
   "source": [
    "A study on water quality of streams, a high level of bacter X was defined as a level greater than $100$\n",
    "per $100\\, ml$ of stream water. $n = 116$ samples were taken from streams having a high environmental\n",
    "impact on pandas. Out of these, $y = 11$ had a high bacter X level.\n",
    "\n",
    "Indicating with $p$ the probability that a sample of water taken from the stream has a high bacter\n",
    "X level:\n",
    "1. Find the frequentist estimator for $p$.\n",
    "2. Using a $Beta(1, 10)$ prior for $p$, calculate and posterior distribution $\\mathcal{P} (p\\,|\\,y)$.\n",
    "3. Find the bayesian estimator for $p$, the posterior mean and variance, and a $95\\%$ credible interval.\n",
    "4. Test the hypotesis: $H_0$ : $p = 0.1$ versus $H_1$ : $p \\neq 0.1$ at $5\\%$ level of significance with both the frequentist and bayesian approach.\n",
    "\n",
    "\n",
    "A new measurement, performed one month later on $n = 165$ water samples, gives $y = 9$ high bacter X level:\n",
    "\n",
    "5.  Find the frequentist estimator for $p$.\n",
    "6.  Find a bayesian estimator for $p$, assuming both a $Beta(1, 10)$ prior for $p$, and assuming the posterior probability of the older measurement as the prior for the new one.\n",
    "7.  Find the bayesian estimator for $p$, the posterior mean and variance, and a $95\\%$ credible interval\n",
    "8. test the hypotesis $H_0$ : $p = 0.1$ versus $H_1$ : $p \\neq 0.1$ at $5\\%$ level of significance with both the frequentist and bayesian approach.\n",
    "\n",
    "\n"
   ]
  },
  {
   "cell_type": "markdown",
   "id": "9806e62f",
   "metadata": {},
   "source": [
    "### 1) \n",
    "Find the frequentist estimator for  $p$:\n",
    "\n",
    "The best frequentist estimator for $p$ is the binomial one: $\\hat{p}=\\dfrac{y}{n}=0.095$  "
   ]
  },
  {
   "cell_type": "markdown",
   "id": "668b290c",
   "metadata": {},
   "source": [
    "### 2)\n",
    "Using a $Beta(1, 10)$ prior for $p$, calculate and posterior distribution $\\mathcal{P} (p\\,|\\,y)$."
   ]
  },
  {
   "cell_type": "code",
   "execution_count": 60,
   "id": "4f11b0f4",
   "metadata": {},
   "outputs": [
    {
     "data": {
      "image/png": "[encoded data removed]",
      "text/plain": [
       "Plot with title \"Posterior with Beta prior\""
      ]
     },
     "metadata": {},
     "output_type": "display_data"
    },
    {
     "data": {
      "image/png": "[encoded data removed]",
      "text/plain": [
       "Plot with title \"Conjugate Prior\""
      ]
     },
     "metadata": {},
     "output_type": "display_data"
    }
   ],
   "source": [
    "y <- 11\n",
    "n <- 116\n",
    "n.samples <- 10000\n",
    "dp <- 1/n.samples\n",
    "p <- seq(from=1/n.samples,by=dp,length.out = n.samples)\n",
    "# \"Brute force approach\"\n",
    "prior <- dbeta(p,1,10)\n",
    "posterior <- prior*dbinom(x = y,size = n,prob = p)\n",
    "posterior.n <-posterior/(sum(posterior)*dp)\n",
    "\n",
    "plot(p,posterior.n,type = 'l',col = \"firebrick\",lwd=2,lty=1,ylab=\"Posterior\",xlab=\"p\",xlim=c(0.0,0.25),main=\"Posterior with Beta prior\")\n",
    "grid()\n",
    "# Using the conjugate prior\n",
    "alpha_old <- 1 + y\n",
    "beta_old <- 10 + n - y\n",
    "posterior <- dbeta(p, alpha_old, beta_old)\n",
    "\n",
    "plot(p,posterior,type = 'l',col = \"firebrick\",lwd=2,lty=1,ylab=\"Posterior\",xlab=\"p\",xlim=c(0.0,0.25),main=\"Conjugate Prior\")\n",
    "grid()\n"
   ]
  },
  {
   "cell_type": "markdown",
   "id": "fa2051b5",
   "metadata": {},
   "source": [
    "### 3)\n",
    "\n",
    "Find the bayesian estimator for $p$, the posterior mean and variance, and a $95\\%$ credible interval.\n"
   ]
  },
  {
   "cell_type": "code",
   "execution_count": 61,
   "id": "0a074ea3",
   "metadata": {},
   "outputs": [
    {
     "name": "stdout",
     "output_type": "stream",
     "text": [
      "[1] \"The bayesian estimator is: 0.088.\"\n",
      "[1] \"The mean is: 0.094488188976378.\"\n",
      "[1] \"The variance is: 0.0333608819518268.\"\n",
      "[1] \"The confidence interval is [0.0502,0.1508].\"\n"
     ]
    }
   ],
   "source": [
    "p.mean <- dp*sum(posterior*p)\n",
    "x <- CI(posterior,p,0.05)\n",
    "p.var1 <- sqrt((sum((posterior^2/sum(posterior)))-p.mean^2)/n.samples)\n",
    "print(paste0(\"The bayesian estimator is: \",p[which.max(posterior)],\".\"))\n",
    "print(paste0(\"The mean is: \",p.mean,\".\"))\n",
    "print(paste0(\"The variance is: \",p.var1,\".\"))\n",
    "print(paste0(\"The confidence interval is [\",x[1],\",\",x[2],\"].\"))"
   ]
  },
  {
   "cell_type": "markdown",
   "id": "95284ed4",
   "metadata": {},
   "source": [
    "### 4)\n",
    "Test the hypotesis: $H_0$ : $p = 0.1$ versus $H_1$ : $p \\neq 0.1$ at $5\\%$ level of significance with both the frequentist and bayesian approach.\n",
    "\n",
    "In the frequentist approach we do the test on a binomial with $p=0.1$, if the found number of successes is inside a 95% probability interval then the null hypothesis can't be rejected."
   ]
  },
  {
   "cell_type": "code",
   "execution_count": 62,
   "id": "525522a0",
   "metadata": {},
   "outputs": [
    {
     "name": "stdout",
     "output_type": "stream",
     "text": [
      "[1] \"The cumulative probability between the interval 4 and 17 is 0.952389915114082\"\n",
      "[1] \"11 is inside this interval so we can not reject the null hypotesis\"\n"
     ]
    }
   ],
   "source": [
    "print(paste0(\"The cumulative probability between the interval 4 and 17 is \",1-(pbinom(4,116,0.1)+ pbinom(17,116,0.1, lower.tail = FALSE))))\n",
    "print(paste0(\"11 is inside this interval so we can not reject the null hypotesis\"))"
   ]
  },
  {
   "cell_type": "code",
   "execution_count": 63,
   "id": "7fcaffb9",
   "metadata": {},
   "outputs": [
    {
     "name": "stdout",
     "output_type": "stream",
     "text": [
      "[1] \"In the bayesian approach we can simply look at the CI and in our case we see that 0.1 stays between [0.0502,0.1508].\"\n"
     ]
    }
   ],
   "source": [
    "print(paste0(\"In the bayesian approach we can simply look at the CI and in our case we see that 0.1 stays between [\",x[1],\",\",x[2],\"].\"))"
   ]
  },
  {
   "cell_type": "markdown",
   "id": "23077d18",
   "metadata": {},
   "source": [
    "A new measurement, performed one month later on $n = 165$ water samples, gives $y = 9$ high bacter X level.\n"
   ]
  },
  {
   "cell_type": "code",
   "execution_count": 64,
   "id": "5a6bbe79",
   "metadata": {},
   "outputs": [],
   "source": [
    "y <- 9\n",
    "n <- 165"
   ]
  },
  {
   "cell_type": "markdown",
   "id": "9ea2e32a",
   "metadata": {},
   "source": [
    "### 5) \n",
    "Find the frequentist estimator for $p$."
   ]
  },
  {
   "cell_type": "code",
   "execution_count": 65,
   "id": "a0ef58e8",
   "metadata": {},
   "outputs": [
    {
     "name": "stdout",
     "output_type": "stream",
     "text": [
      "[1] \"The frequentist estimator is: 0.0545454545454545.\"\n"
     ]
    }
   ],
   "source": [
    "print(paste0(\"The frequentist estimator is: \",y/n,\".\"))"
   ]
  },
  {
   "cell_type": "markdown",
   "id": "12857880",
   "metadata": {},
   "source": [
    "### 6,7,8)  \n",
    "Find a bayesian estimator for $p$, assuming both a $Beta(1, 10)$ prior for $p$, and assuming the posterior probability of the older measurement as the prior for the new one.\n",
    "\n",
    "Find the bayesian estimator for $p$, the posterior mean and variance, and a $95\\%$ credible interval.\n",
    "\n",
    "Test the hypotesis $H_0$ : $p = 0.1$ versus $H_1$ : $p \\neq 0.1$ at $5\\%$ level of significance with both the frequentist and bayesian approach."
   ]
  },
  {
   "cell_type": "code",
   "execution_count": 66,
   "id": "fcf58b41",
   "metadata": {},
   "outputs": [
    {
     "name": "stdout",
     "output_type": "stream",
     "text": [
      "[1] \"The bayesian estimator is: 0.0517.\"\n",
      "[1] \"The mean is: 0.0568181818181818.\"\n",
      "[1] \"The variance is: 0.0408769721238771.\"\n",
      "[1] \"The confidence interval is [0.0277,0.0954].\"\n",
      "[1] \"The cumulative probability between the interval 1 and 23 is 0.960071201991359\"\n",
      "[1] \"9 is inside this interval so we can not reject the null hypotesis\"\n",
      "[1] \"In the bayesian approach we can simply look at the CI and in our case we see that 0.1 stays between [0.0277,0.0954].\"\n"
     ]
    },
    {
     "data": {
      "image/png": "[encoded data removed]",
      "text/plain": [
       "Plot with title \"Conjugate Prior 'simple' \""
      ]
     },
     "metadata": {},
     "output_type": "display_data"
    }
   ],
   "source": [
    "# Beta(1,10)\n",
    "alpha <- 1 + y\n",
    "beta <- 10 + n - y\n",
    "posterior <- dbeta(p, alpha, beta)\n",
    "\n",
    "plot(p,posterior,type = 'l',col = \"firebrick\",lwd=2,lty=1,ylab=\"Posterior\",xlab=\"p\",xlim=c(0.0,0.25),main=\"Conjugate Prior 'simple' \")\n",
    "grid()\n",
    "p.mean <- dp*sum(posterior*p)\n",
    "x <- CI(posterior,p,0.05)\n",
    "p.var1 <- sqrt((sum((posterior^2/sum(posterior)))-p.mean^2)/n.samples)\n",
    "print(paste0(\"The bayesian estimator is: \",p[which.max(posterior)],\".\"))\n",
    "print(paste0(\"The mean is: \",p.mean,\".\"))\n",
    "print(paste0(\"The variance is: \",p.var1,\".\"))\n",
    "print(paste0(\"The confidence interval is [\",x[1],\",\",x[2],\"].\"))\n",
    "print(paste0(\"The cumulative probability between the interval 1 and 23 is \",1-(pbinom(1,165,0.1)+ pbinom(23,165,0.1, lower.tail = FALSE))))\n",
    "print(paste0(\"9 is inside this interval so we can not reject the null hypotesis\"))\n",
    "print(paste0(\"In the bayesian approach we can simply look at the CI and in our case we see that 0.1 stays between [\",x[1],\",\",x[2],\"].\"))"
   ]
  },
  {
   "cell_type": "markdown",
   "id": "ee036601",
   "metadata": {},
   "source": [
    "Old posterior as a new prior."
   ]
  },
  {
   "cell_type": "code",
   "execution_count": 67,
   "id": "2012b157",
   "metadata": {},
   "outputs": [
    {
     "name": "stdout",
     "output_type": "stream",
     "text": [
      "[1] \"The bayesian estimator is: 0.069.\"\n",
      "[1] \"The mean is: 0.0719178082191781.\"\n",
      "[1] \"The variance is: 0.0435106163378397.\"\n",
      "[1] \"The confidence interval is [0.0452,0.1042].\"\n",
      "[1] \"The cumulative probability between the interval 1 and 23 is 0.960071201991359\"\n",
      "[1] \"9 is inside this interval so we can not reject the null hypotesis\"\n",
      "[1] \"In the bayesian approach we can simply look at the CI and in our case we see that 0.1 stays between [0.0452,0.1042].\"\n"
     ]
    },
    {
     "data": {
      "image/png": "[encoded data removed]",
      "text/plain": [
       "Plot with title \"Conjugate Prior with old posterior\""
      ]
     },
     "metadata": {},
     "output_type": "display_data"
    }
   ],
   "source": [
    "# In this case we can use directly the old posterior, or we can use again the conjugate prior (the posterior is a Beta(12,115))\n",
    "alpha <- alpha_old + y\n",
    "beta <- beta_old + n-y\n",
    "posterior <- dbeta(p, alpha, beta)\n",
    "posterior.n <- posterior\n",
    "plot(p,posterior.n,type = 'l',col = \"firebrick\",lwd=2,lty=1,ylab=\"Posterior\",xlab=\"p\",xlim=c(0.0,0.25),main=\"Conjugate Prior with old posterior\")\n",
    "grid()\n",
    "p.mean <- dp*sum(posterior.n*p)\n",
    "x <- CI(posterior,p,0.05)\n",
    "p.var1 <- sqrt((sum((posterior.n^2/sum(posterior.n)))-p.mean^2)/n.samples)\n",
    "print(paste0(\"The bayesian estimator is: \",p[which.max(posterior.n)],\".\"))\n",
    "print(paste0(\"The mean is: \",p.mean,\".\"))\n",
    "print(paste0(\"The variance is: \",p.var1,\".\"))\n",
    "print(paste0(\"The confidence interval is [\",x[1],\",\",x[2],\"].\"))\n",
    "print(paste0(\"The cumulative probability between the interval 1 and 23 is \",1-(pbinom(1,165,0.1)+ pbinom(23,165,0.1, lower.tail = FALSE))))\n",
    "print(paste0(\"9 is inside this interval so we can not reject the null hypotesis\"))\n",
    "print(paste0(\"In the bayesian approach we can simply look at the CI and in our case we see that 0.1 stays between [\",x[1],\",\",x[2],\"].\"))"
   ]
  }
 ],
 "metadata": {
  "kernelspec": {
   "display_name": "R",
   "language": "R",
   "name": "ir"
  },
  "language_info": {
   "codemirror_mode": "r",
   "file_extension": ".r",
   "mimetype": "text/x-r-source",
   "name": "R",
   "pygments_lexer": "r",
   "version": "3.6.1"
  }
 },
 "nbformat": 4,
 "nbformat_minor": 5
}
